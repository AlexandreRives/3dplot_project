{
 "cells": [
  {
   "cell_type": "code",
   "execution_count": 16,
   "id": "41522556",
   "metadata": {},
   "outputs": [
    {
     "name": "stdout",
     "output_type": "stream",
     "text": [
      "{'k': array([[1.0525024e+03, 0.0000000e+00, 6.3950000e+02],\n",
      "       [0.0000000e+00, 1.0526908e+03, 5.1150000e+02],\n",
      "       [0.0000000e+00, 0.0000000e+00, 1.0000000e+00]]), 'd': array([[ 2.84925161e+00,  3.46050254e+00,  7.02477012e-04,\n",
      "        -2.04280289e-05,  9.72898110e+00,  2.96910526e+00,\n",
      "         3.61378949e+00,  1.01239654e+01,  0.00000000e+00,\n",
      "         0.00000000e+00,  0.00000000e+00,  0.00000000e+00,\n",
      "         0.00000000e+00,  0.00000000e+00]]), 'rpe': 0.0999660150117045}\n"
     ]
    }
   ],
   "source": []
  }
 ],
 "metadata": {
  "kernelspec": {
   "display_name": "Python 3 (ipykernel)",
   "language": "python",
   "name": "python3"
  },
  "language_info": {
   "codemirror_mode": {
    "name": "ipython",
    "version": 3
   },
   "file_extension": ".py",
   "mimetype": "text/x-python",
   "name": "python",
   "nbconvert_exporter": "python",
   "pygments_lexer": "ipython3",
   "version": "3.8.13"
  }
 },
 "nbformat": 4,
 "nbformat_minor": 5
}
